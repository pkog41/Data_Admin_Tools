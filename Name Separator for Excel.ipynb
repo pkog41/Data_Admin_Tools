{
 "cells": [
  {
   "cell_type": "code",
   "execution_count": 18,
   "id": "ed4b2589",
   "metadata": {},
   "outputs": [
    {
     "name": "stdout",
     "output_type": "stream",
     "text": [
      "Collecting aspose-cellsNote: you may need to restart the kernel to use updated packages.\n",
      "  Downloading aspose-cells-21.11.0.tar.gz (12.0 MB)\n",
      "Collecting JPype1>=1.2.1\n",
      "  Downloading JPype1-1.3.0-cp38-cp38-win_amd64.whl (362 kB)\n",
      "Building wheels for collected packages: aspose-cells\n",
      "  Building wheel for aspose-cells (setup.py): started\n",
      "  Building wheel for aspose-cells (setup.py): finished with status 'done'\n",
      "  Created wheel for aspose-cells: filename=aspose_cells-21.11.0-py3-none-any.whl size=11937901 sha256=5ddf75ed4393238211537d754d5d1a24c258f8872e7e96e8f6254b116f18c8f9\n",
      "  Stored in directory: c:\\users\\patrickogrady\\appdata\\local\\pip\\cache\\wheels\\a4\\cd\\4c\\9cb1e51ef3f0e57aa5701153e48cb59feafc57c36db4460b9e\n",
      "Successfully built aspose-cells\n",
      "Installing collected packages: JPype1, aspose-cells\n",
      "Successfully installed JPype1-1.3.0 aspose-cells-21.11.0\n",
      "\n"
     ]
    }
   ],
   "source": [
    "pip install aspose-cells"
   ]
  },
  {
   "cell_type": "code",
   "execution_count": 2,
   "id": "9b541ca9",
   "metadata": {},
   "outputs": [],
   "source": [
    "import pandas as pd"
   ]
  },
  {
   "cell_type": "code",
   "execution_count": 22,
   "id": "f364e01e",
   "metadata": {},
   "outputs": [
    {
     "name": "stdout",
     "output_type": "stream",
     "text": [
      "             Name Unnamed: 1  Unnamed: 2  Unnamed: 3  Unnamed: 4\n",
      "0  Mushin Abutrab          A         NaN         NaN         NaN\n",
      "1   Marion Brophy          A         NaN         NaN         NaN\n",
      "2   Wilson Easton          A         NaN         NaN         NaN\n",
      "3    Joyce Harvey          A         NaN         NaN         NaN\n",
      "4      Carol Head          A         NaN         NaN         NaN\n",
      "5    Herbert Head          A         NaN         NaN         NaN\n",
      "6    Andrew Hearn          A         NaN         NaN         NaN\n",
      "7  Margaret Kelly          A         NaN         NaN         NaN\n",
      "8   Alice McGrath          A         NaN         NaN         NaN\n",
      "9   Donna Newhook          A         NaN         NaN         NaN\n"
     ]
    }
   ],
   "source": [
    "lifecerts = r\"C:\\Users\\patrickogrady\\OneDrive - Provident10\\Documents\\Work Stuff\\Life cert docs.xlsx\"\n",
    "sheet1 = pd.read_excel(lifecerts, sheet_name = 'Sheet1')\n",
    "print(sheet1.head(10))"
   ]
  },
  {
   "cell_type": "code",
   "execution_count": 23,
   "id": "f8d356ea",
   "metadata": {},
   "outputs": [
    {
     "name": "stdout",
     "output_type": "stream",
     "text": [
      "0        Mushin Abutrab\n",
      "1         Marion Brophy\n",
      "2         Wilson Easton\n",
      "3          Joyce Harvey\n",
      "4            Carol Head\n",
      "5          Herbert Head\n",
      "6          Andrew Hearn\n",
      "7        Margaret Kelly\n",
      "8         Alice McGrath\n",
      "9         Donna Newhook\n",
      "10         Yvonne Piatt\n",
      "11         Freeman Pope\n",
      "12      Daphne Stockley\n",
      "13     Mariette Vanasse\n",
      "14       Theresa Warren\n",
      "15        Graham Whalen\n",
      "16           Jay Wilson\n",
      "17    Ann Marie Wiseman\n",
      "Name: Name, dtype: object\n"
     ]
    }
   ],
   "source": [
    "first_name_list = []\n",
    "last_name_list = []\n",
    "\n",
    "names = sheet1['Name']\n",
    "print(names)"
   ]
  },
  {
   "cell_type": "code",
   "execution_count": 24,
   "id": "3c6a03fe",
   "metadata": {},
   "outputs": [
    {
     "name": "stdout",
     "output_type": "stream",
     "text": [
      "['Mushin', 'Marion', 'Wilson', 'Joyce', 'Carol', 'Herbert', 'Andrew', 'Margaret', 'Alice', 'Donna', 'Yvonne', 'Freeman', 'Daphne', 'Mariette', 'Theresa', 'Graham', 'Jay', 'Ann']\n"
     ]
    }
   ],
   "source": [
    "for name in names:\n",
    "    first_name, last_name =name.split(' ',1)\n",
    "    first_name_list.append(first_name)\n",
    "    last_name_list.append(last_name)\n",
    "    \n",
    "print(first_name_list)"
   ]
  },
  {
   "cell_type": "code",
   "execution_count": 25,
   "id": "00c2291b",
   "metadata": {},
   "outputs": [
    {
     "name": "stdout",
     "output_type": "stream",
     "text": [
      "  First Name Last Name Unnamed: 1  Unnamed: 2  Unnamed: 3  Unnamed: 4\n",
      "0     Mushin   Abutrab          A         NaN         NaN         NaN\n",
      "1     Marion    Brophy          A         NaN         NaN         NaN\n",
      "2     Wilson    Easton          A         NaN         NaN         NaN\n",
      "3      Joyce    Harvey          A         NaN         NaN         NaN\n",
      "4      Carol      Head          A         NaN         NaN         NaN\n",
      "5    Herbert      Head          A         NaN         NaN         NaN\n",
      "6     Andrew     Hearn          A         NaN         NaN         NaN\n",
      "7   Margaret     Kelly          A         NaN         NaN         NaN\n",
      "8      Alice   McGrath          A         NaN         NaN         NaN\n",
      "9      Donna   Newhook          A         NaN         NaN         NaN\n"
     ]
    }
   ],
   "source": [
    "sheet1.insert(0,\"First Name\", first_name_list)\n",
    "sheet1.insert(1,\"Last Name\", last_name_list)\n",
    "del sheet1['Name']\n",
    "\n",
    "print(sheet1.head(10))"
   ]
  },
  {
   "cell_type": "code",
   "execution_count": 27,
   "id": "77f18c17",
   "metadata": {},
   "outputs": [],
   "source": [
    "sheet1.to_excel(r\"C:\\Users\\patrickogrady\\OneDrive - Provident10\\Documents\\Work Stuff\\Life cert docs edit.xlsx\")"
   ]
  },
  {
   "cell_type": "code",
   "execution_count": null,
   "id": "0040c1e3",
   "metadata": {},
   "outputs": [],
   "source": []
  }
 ],
 "metadata": {
  "kernelspec": {
   "display_name": "Python 3",
   "language": "python",
   "name": "python3"
  },
  "language_info": {
   "codemirror_mode": {
    "name": "ipython",
    "version": 3
   },
   "file_extension": ".py",
   "mimetype": "text/x-python",
   "name": "python",
   "nbconvert_exporter": "python",
   "pygments_lexer": "ipython3",
   "version": "3.8.8"
  }
 },
 "nbformat": 4,
 "nbformat_minor": 5
}
